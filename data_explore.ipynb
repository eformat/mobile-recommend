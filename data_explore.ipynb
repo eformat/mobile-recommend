{
 "cells": [
  {
   "cell_type": "code",
   "execution_count": 1,
   "id": "08c37ddf",
   "metadata": {},
   "outputs": [],
   "source": [
    "import pandas as pd\n",
    "import numpy as np\n",
    "from rich import print\n",
    "import os"
   ]
  },
  {
   "cell_type": "code",
   "execution_count": 2,
   "id": "a5b9c0f4",
   "metadata": {},
   "outputs": [],
   "source": [
    "df = pd.read_csv(r'seed_data/mobile_recommendation_system_dataset.csv',index_col=False)"
   ]
  },
  {
   "cell_type": "code",
   "execution_count": null,
   "id": "43ca707f",
   "metadata": {},
   "outputs": [],
   "source": [
    "def random_values(col_name:str,total=6):\n",
    "    for i in range(0,total):\n",
    "        index = np.random.randint(df.shape[0])\n",
    "        print(index,':',df[col_name].iloc[index])"
   ]
  },
  {
   "cell_type": "code",
   "execution_count": 4,
   "id": "f82b0767",
   "metadata": {},
   "outputs": [
    {
     "data": {
      "text/html": [
       "<pre style=\"white-space:pre;overflow-x:auto;line-height:normal;font-family:Menlo,'DejaVu Sans Mono',consolas,'Courier New',monospace\"><span style=\"color: #008080; text-decoration-color: #008080; font-weight: bold\">1359</span> : Storage64 GBRAM4 GBExpandable Storage1TB  SystemAndroid 12Processor TypeG37Processor Speed2.<span style=\"color: #008080; text-decoration-color: #008080; font-weight: bold\">3</span> 50MP 50MP 5MP \n",
       "5MP 2G Capacity5000 Display Size16.<span style=\"color: #008080; text-decoration-color: #008080; font-weight: bold\">76</span> cm <span style=\"font-weight: bold\">(</span><span style=\"color: #008080; text-decoration-color: #008080; font-weight: bold\">6.6</span> inch<span style=\"font-weight: bold\">)</span>Resolution1612 x <span style=\"color: #008080; text-decoration-color: #008080; font-weight: bold\">720</span> PixelsResolution TypeHD+Display TypeHD+ IPS\n",
       "DisplayOther Display FeaturesRefresh Rate: 90Hz, Touch Sampling Rate: 180Hz, Brightness: Upto <span style=\"color: #008080; text-decoration-color: #008080; font-weight: bold\">500</span> Nits, Color \n",
       "Contrast Ratio: <span style=\"color: #00ff00; text-decoration-color: #00ff00; font-weight: bold\">1500:1</span>, Panda Glass Protection, Eye Care Mode\n",
       "</pre>\n"
      ],
      "text/plain": [
       "\u001b[1;36m1359\u001b[0m : Storage64 GBRAM4 GBExpandable Storage1TB  SystemAndroid 12Processor TypeG37Processor Speed2.\u001b[1;36m3\u001b[0m 50MP 50MP 5MP \n",
       "5MP 2G Capacity5000 Display Size16.\u001b[1;36m76\u001b[0m cm \u001b[1m(\u001b[0m\u001b[1;36m6.6\u001b[0m inch\u001b[1m)\u001b[0mResolution1612 x \u001b[1;36m720\u001b[0m PixelsResolution TypeHD+Display TypeHD+ IPS\n",
       "DisplayOther Display FeaturesRefresh Rate: 90Hz, Touch Sampling Rate: 180Hz, Brightness: Upto \u001b[1;36m500\u001b[0m Nits, Color \n",
       "Contrast Ratio: \u001b[1;92m1500:1\u001b[0m, Panda Glass Protection, Eye Care Mode\n"
      ]
     },
     "metadata": {},
     "output_type": "display_data"
    },
    {
     "data": {
      "text/html": [
       "<pre style=\"white-space:pre;overflow-x:auto;line-height:normal;font-family:Menlo,'DejaVu Sans Mono',consolas,'Courier New',monospace\"><span style=\"color: #008080; text-decoration-color: #008080; font-weight: bold\">352</span> : Storage128 GBRAM4 GBExpandable Storage512GB  SystemAndroid Pie <span style=\"color: #008080; text-decoration-color: #008080; font-weight: bold\">9.</span>0Processor TypeSamsung Exynos 9609Processor \n",
       "Speed2.<span style=\"color: #008080; text-decoration-color: #008080; font-weight: bold\">2</span> 12MP 5MP 4MP 12MP 5MP 16MP 4MP 12MP 12MP 3G Capacity3500 Display Size16.<span style=\"color: #008080; text-decoration-color: #008080; font-weight: bold\">0</span> cm <span style=\"font-weight: bold\">(</span><span style=\"color: #008080; text-decoration-color: #008080; font-weight: bold\">6.3</span> inch<span style=\"font-weight: bold\">)</span>Resolution2520 x \n",
       "<span style=\"color: #008080; text-decoration-color: #008080; font-weight: bold\">1080</span> pixelsResolution TypeFull HD+GPUMali G72 MP3Display TypeLTPS IPSOther Display Features<span style=\"color: #00ff00; text-decoration-color: #00ff00; font-weight: bold\">21:9</span>, <span style=\"color: #008080; text-decoration-color: #008080; font-weight: bold\">2.</span>5D Glass, <span style=\"color: #008080; text-decoration-color: #008080; font-weight: bold\">84</span>% \n",
       "Screen to Body Ratio, CinemaVision Display\n",
       "</pre>\n"
      ],
      "text/plain": [
       "\u001b[1;36m352\u001b[0m : Storage128 GBRAM4 GBExpandable Storage512GB  SystemAndroid Pie \u001b[1;36m9.\u001b[0m0Processor TypeSamsung Exynos 9609Processor \n",
       "Speed2.\u001b[1;36m2\u001b[0m 12MP 5MP 4MP 12MP 5MP 16MP 4MP 12MP 12MP 3G Capacity3500 Display Size16.\u001b[1;36m0\u001b[0m cm \u001b[1m(\u001b[0m\u001b[1;36m6.3\u001b[0m inch\u001b[1m)\u001b[0mResolution2520 x \n",
       "\u001b[1;36m1080\u001b[0m pixelsResolution TypeFull HD+GPUMali G72 MP3Display TypeLTPS IPSOther Display Features\u001b[1;92m21:9\u001b[0m, \u001b[1;36m2.\u001b[0m5D Glass, \u001b[1;36m84\u001b[0m% \n",
       "Screen to Body Ratio, CinemaVision Display\n"
      ]
     },
     "metadata": {},
     "output_type": "display_data"
    },
    {
     "data": {
      "text/html": [
       "<pre style=\"white-space:pre;overflow-x:auto;line-height:normal;font-family:Menlo,'DejaVu Sans Mono',consolas,'Courier New',monospace\"><span style=\"color: #008080; text-decoration-color: #008080; font-weight: bold\">1117</span> : Storage256  SystemiOS 16Processor TypeA15 Bionic Chip 12MP 12MP 12MP 12MP 63MP 12MP 12MP 5G notMentioned \n",
       "Display Size17.<span style=\"color: #008080; text-decoration-color: #008080; font-weight: bold\">02</span> cm <span style=\"font-weight: bold\">(</span><span style=\"color: #008080; text-decoration-color: #008080; font-weight: bold\">6.7</span> inch<span style=\"font-weight: bold\">)</span>Resolution2778 x <span style=\"color: #008080; text-decoration-color: #008080; font-weight: bold\">1284</span> PixelsResolution TypeSuper Retina XDR DisplayGPU5 CoreDisplay \n",
       "TypeSuper Retina XDR DisplayOther Display FeaturesHDR Display, <span style=\"color: #00ff00; text-decoration-color: #00ff00; font-style: italic\">True</span> Tone, Wide Colour <span style=\"font-weight: bold\">(</span>P3<span style=\"font-weight: bold\">)</span>, Haptic Touch, Contrast \n",
       "Ratio: <span style=\"color: #008080; text-decoration-color: #008080; font-weight: bold\">20</span>,<span style=\"color: #008080; text-decoration-color: #008080; font-weight: bold\">00</span>,<span style=\"color: #00ff00; text-decoration-color: #00ff00; font-weight: bold\">000:1</span>, Max Brightness: <span style=\"color: #008080; text-decoration-color: #008080; font-weight: bold\">800</span> nits, Peak Brightness: <span style=\"color: #008080; text-decoration-color: #008080; font-weight: bold\">1</span>,<span style=\"color: #008080; text-decoration-color: #008080; font-weight: bold\">200</span> nits, Fingerprint Resistant Oleophobic \n",
       "Coating, Support for Display of Multiple Languages and Characters Simultaneously\n",
       "</pre>\n"
      ],
      "text/plain": [
       "\u001b[1;36m1117\u001b[0m : Storage256  SystemiOS 16Processor TypeA15 Bionic Chip 12MP 12MP 12MP 12MP 63MP 12MP 12MP 5G notMentioned \n",
       "Display Size17.\u001b[1;36m02\u001b[0m cm \u001b[1m(\u001b[0m\u001b[1;36m6.7\u001b[0m inch\u001b[1m)\u001b[0mResolution2778 x \u001b[1;36m1284\u001b[0m PixelsResolution TypeSuper Retina XDR DisplayGPU5 CoreDisplay \n",
       "TypeSuper Retina XDR DisplayOther Display FeaturesHDR Display, \u001b[3;92mTrue\u001b[0m Tone, Wide Colour \u001b[1m(\u001b[0mP3\u001b[1m)\u001b[0m, Haptic Touch, Contrast \n",
       "Ratio: \u001b[1;36m20\u001b[0m,\u001b[1;36m00\u001b[0m,\u001b[1;92m000:1\u001b[0m, Max Brightness: \u001b[1;36m800\u001b[0m nits, Peak Brightness: \u001b[1;36m1\u001b[0m,\u001b[1;36m200\u001b[0m nits, Fingerprint Resistant Oleophobic \n",
       "Coating, Support for Display of Multiple Languages and Characters Simultaneously\n"
      ]
     },
     "metadata": {},
     "output_type": "display_data"
    },
    {
     "data": {
      "text/html": [
       "<pre style=\"white-space:pre;overflow-x:auto;line-height:normal;font-family:Menlo,'DejaVu Sans Mono',consolas,'Courier New',monospace\"><span style=\"color: #008080; text-decoration-color: #008080; font-weight: bold\">1822</span> : Storage128 GBRAM4 GBExpandable Storage1TB  SystemAndroid 11Processor TypeMediatek Helio P35Processor \n",
       "Speed2.<span style=\"color: #008080; text-decoration-color: #008080; font-weight: bold\">3</span> 13MP 2MP 13MP 2MP 8MP 8MP 4G Capacity5000 Display Size16.<span style=\"color: #008080; text-decoration-color: #008080; font-weight: bold\">54</span> cm <span style=\"font-weight: bold\">(</span><span style=\"color: #008080; text-decoration-color: #008080; font-weight: bold\">6.51</span> inch<span style=\"font-weight: bold\">)</span>Resolution1600 x <span style=\"color: #008080; text-decoration-color: #008080; font-weight: bold\">720</span> \n",
       "PixelsResolution TypeHD+GPUIMG GE8320Display TypeHD+ LCD Halo Full View DisplayOther Display Features<span style=\"color: #00ff00; text-decoration-color: #00ff00; font-weight: bold\">20:09</span> Aspect \n",
       "Ratio, <span style=\"color: #008080; text-decoration-color: #008080; font-weight: bold\">89</span>% Screen-to-Body Ratio, Panda Glass\n",
       "</pre>\n"
      ],
      "text/plain": [
       "\u001b[1;36m1822\u001b[0m : Storage128 GBRAM4 GBExpandable Storage1TB  SystemAndroid 11Processor TypeMediatek Helio P35Processor \n",
       "Speed2.\u001b[1;36m3\u001b[0m 13MP 2MP 13MP 2MP 8MP 8MP 4G Capacity5000 Display Size16.\u001b[1;36m54\u001b[0m cm \u001b[1m(\u001b[0m\u001b[1;36m6.51\u001b[0m inch\u001b[1m)\u001b[0mResolution1600 x \u001b[1;36m720\u001b[0m \n",
       "PixelsResolution TypeHD+GPUIMG GE8320Display TypeHD+ LCD Halo Full View DisplayOther Display Features\u001b[1;92m20:09\u001b[0m Aspect \n",
       "Ratio, \u001b[1;36m89\u001b[0m% Screen-to-Body Ratio, Panda Glass\n"
      ]
     },
     "metadata": {},
     "output_type": "display_data"
    },
    {
     "data": {
      "text/html": [
       "<pre style=\"white-space:pre;overflow-x:auto;line-height:normal;font-family:Menlo,'DejaVu Sans Mono',consolas,'Courier New',monospace\"><span style=\"color: #008080; text-decoration-color: #008080; font-weight: bold\">10</span> : Storage64 GBRAM4 GBExpandable Storage256GB  SystemAndroid Pie 9Processor TypeQualcomm Snapdragon <span style=\"color: #008080; text-decoration-color: #008080; font-weight: bold\">712</span> AIE Octa \n",
       "Core <span style=\"color: #008080; text-decoration-color: #008080; font-weight: bold\">2.</span>3GHzProcessor Speed2.<span style=\"color: #008080; text-decoration-color: #008080; font-weight: bold\">3</span> 16MP 2MP 8MP 16MP 8MP 2MP 32MP 32MP 3G Capacity5000 Display Size16.<span style=\"color: #008080; text-decoration-color: #008080; font-weight: bold\">59</span> cm <span style=\"font-weight: bold\">(</span><span style=\"color: #008080; text-decoration-color: #008080; font-weight: bold\">6.53</span> \n",
       "inch<span style=\"font-weight: bold\">)</span>Resolution2340 x <span style=\"color: #008080; text-decoration-color: #008080; font-weight: bold\">1080</span> pixelsResolution TypeFull HD+GPUAdreno 616Display Colors16.7MOther Display \n",
       "FeaturesBezel: <span style=\"color: #008080; text-decoration-color: #008080; font-weight: bold\">1.</span>76mm, <span style=\"color: #008080; text-decoration-color: #008080; font-weight: bold\">90.77</span>% Screen to Body Ratio\n",
       "</pre>\n"
      ],
      "text/plain": [
       "\u001b[1;36m10\u001b[0m : Storage64 GBRAM4 GBExpandable Storage256GB  SystemAndroid Pie 9Processor TypeQualcomm Snapdragon \u001b[1;36m712\u001b[0m AIE Octa \n",
       "Core \u001b[1;36m2.\u001b[0m3GHzProcessor Speed2.\u001b[1;36m3\u001b[0m 16MP 2MP 8MP 16MP 8MP 2MP 32MP 32MP 3G Capacity5000 Display Size16.\u001b[1;36m59\u001b[0m cm \u001b[1m(\u001b[0m\u001b[1;36m6.53\u001b[0m \n",
       "inch\u001b[1m)\u001b[0mResolution2340 x \u001b[1;36m1080\u001b[0m pixelsResolution TypeFull HD+GPUAdreno 616Display Colors16.7MOther Display \n",
       "FeaturesBezel: \u001b[1;36m1.\u001b[0m76mm, \u001b[1;36m90.77\u001b[0m% Screen to Body Ratio\n"
      ]
     },
     "metadata": {},
     "output_type": "display_data"
    },
    {
     "data": {
      "text/html": [
       "<pre style=\"white-space:pre;overflow-x:auto;line-height:normal;font-family:Menlo,'DejaVu Sans Mono',consolas,'Courier New',monospace\"><span style=\"color: #008080; text-decoration-color: #008080; font-weight: bold\">1175</span> : Storage64 GBRAM4 GBExpandable Storage1TB  SystemAndroid 11Processor TypeQualcomm Snapdragon <span style=\"color: #008080; text-decoration-color: #008080; font-weight: bold\">680</span> \n",
       "<span style=\"font-weight: bold\">(</span>SM6225<span style=\"font-weight: bold\">)</span>Processor Speed2.<span style=\"color: #008080; text-decoration-color: #008080; font-weight: bold\">4</span> 50MP 2MP 2MP 16MP 4G Capacity5000 Display Size16.<span style=\"color: #008080; text-decoration-color: #008080; font-weight: bold\">76</span> cm <span style=\"font-weight: bold\">(</span><span style=\"color: #008080; text-decoration-color: #008080; font-weight: bold\">6.6</span> inch<span style=\"font-weight: bold\">)</span>Resolution2412 x <span style=\"color: #008080; text-decoration-color: #008080; font-weight: bold\">1080</span> \n",
       "PixelsResolution TypeFull HD+GPUQualcomm Adreno 610Display TypeFull HD+ LCDDisplay Colors16.7MOther Display \n",
       "Features90Hz Refresh Rate, <span style=\"color: #008080; text-decoration-color: #008080; font-weight: bold\">20.1</span>:<span style=\"color: #008080; text-decoration-color: #008080; font-weight: bold\">9</span> Aspect Ratio, Screen-to-Body Ratio: <span style=\"color: #008080; text-decoration-color: #008080; font-weight: bold\">90.80</span>%, 180Hz Touch Sampling Rate, <span style=\"color: #00ff00; text-decoration-color: #00ff00; font-weight: bold\">1500:1</span> \n",
       "Screen Contrast, <span style=\"color: #008080; text-decoration-color: #008080; font-weight: bold\">480</span> nit Brightness, <span style=\"color: #008080; text-decoration-color: #008080; font-weight: bold\">96</span>% Color Saturation, Supports Sunlight Screen, COG Sealing Process, In-Cell \n",
       "Touch Panel Technology, <span style=\"color: #008080; text-decoration-color: #008080; font-weight: bold\">10</span> Touch Points\n",
       "</pre>\n"
      ],
      "text/plain": [
       "\u001b[1;36m1175\u001b[0m : Storage64 GBRAM4 GBExpandable Storage1TB  SystemAndroid 11Processor TypeQualcomm Snapdragon \u001b[1;36m680\u001b[0m \n",
       "\u001b[1m(\u001b[0mSM6225\u001b[1m)\u001b[0mProcessor Speed2.\u001b[1;36m4\u001b[0m 50MP 2MP 2MP 16MP 4G Capacity5000 Display Size16.\u001b[1;36m76\u001b[0m cm \u001b[1m(\u001b[0m\u001b[1;36m6.6\u001b[0m inch\u001b[1m)\u001b[0mResolution2412 x \u001b[1;36m1080\u001b[0m \n",
       "PixelsResolution TypeFull HD+GPUQualcomm Adreno 610Display TypeFull HD+ LCDDisplay Colors16.7MOther Display \n",
       "Features90Hz Refresh Rate, \u001b[1;36m20.1\u001b[0m:\u001b[1;36m9\u001b[0m Aspect Ratio, Screen-to-Body Ratio: \u001b[1;36m90.80\u001b[0m%, 180Hz Touch Sampling Rate, \u001b[1;92m1500:1\u001b[0m \n",
       "Screen Contrast, \u001b[1;36m480\u001b[0m nit Brightness, \u001b[1;36m96\u001b[0m% Color Saturation, Supports Sunlight Screen, COG Sealing Process, In-Cell \n",
       "Touch Panel Technology, \u001b[1;36m10\u001b[0m Touch Points\n"
      ]
     },
     "metadata": {},
     "output_type": "display_data"
    }
   ],
   "source": [
    "random_values('corpus')"
   ]
  },
  {
   "cell_type": "code",
   "execution_count": 5,
   "id": "48dc4443",
   "metadata": {},
   "outputs": [
    {
     "data": {
      "text/plain": [
       "name        0\n",
       "ratings     0\n",
       "price       0\n",
       "imgURL      0\n",
       "corpus     12\n",
       "dtype: int64"
      ]
     },
     "execution_count": 5,
     "metadata": {},
     "output_type": "execute_result"
    }
   ],
   "source": [
    "df.isnull().sum()"
   ]
  },
  {
   "cell_type": "code",
   "execution_count": 6,
   "id": "5a8ac156",
   "metadata": {},
   "outputs": [],
   "source": [
    "df.dropna(inplace=True)"
   ]
  },
  {
   "cell_type": "code",
   "execution_count": 7,
   "id": "54da5710",
   "metadata": {},
   "outputs": [
    {
     "data": {
      "text/html": [
       "<pre style=\"white-space:pre;overflow-x:auto;line-height:normal;font-family:Menlo,'DejaVu Sans Mono',consolas,'Courier New',monospace\"><span style=\"font-weight: bold\">[</span><span style=\"color: #008000; text-decoration-color: #008000\">'name'</span>, <span style=\"color: #008000; text-decoration-color: #008000\">'ratings'</span>, <span style=\"color: #008000; text-decoration-color: #008000\">'price'</span>, <span style=\"color: #008000; text-decoration-color: #008000\">'imgURL'</span>, <span style=\"color: #008000; text-decoration-color: #008000\">'corpus'</span><span style=\"font-weight: bold\">]</span>\n",
       "</pre>\n"
      ],
      "text/plain": [
       "\u001b[1m[\u001b[0m\u001b[32m'name'\u001b[0m, \u001b[32m'ratings'\u001b[0m, \u001b[32m'price'\u001b[0m, \u001b[32m'imgURL'\u001b[0m, \u001b[32m'corpus'\u001b[0m\u001b[1m]\u001b[0m\n"
      ]
     },
     "metadata": {},
     "output_type": "display_data"
    }
   ],
   "source": [
    "print(df.columns.tolist())"
   ]
  },
  {
   "cell_type": "code",
   "execution_count": 14,
   "id": "cc5a74d1",
   "metadata": {},
   "outputs": [
    {
     "data": {
      "text/html": [
       "<div>\n",
       "<style scoped>\n",
       "    .dataframe tbody tr th:only-of-type {\n",
       "        vertical-align: middle;\n",
       "    }\n",
       "\n",
       "    .dataframe tbody tr th {\n",
       "        vertical-align: top;\n",
       "    }\n",
       "\n",
       "    .dataframe thead th {\n",
       "        text-align: right;\n",
       "    }\n",
       "</style>\n",
       "<table border=\"1\" class=\"dataframe\">\n",
       "  <thead>\n",
       "    <tr style=\"text-align: right;\">\n",
       "      <th></th>\n",
       "      <th>name</th>\n",
       "      <th>ratings</th>\n",
       "      <th>price</th>\n",
       "      <th>imgURL</th>\n",
       "      <th>corpus</th>\n",
       "    </tr>\n",
       "  </thead>\n",
       "  <tbody>\n",
       "    <tr>\n",
       "      <th>2206</th>\n",
       "      <td>Redmi 7 (Lunar Red, 32 GB)</td>\n",
       "      <td>4.4</td>\n",
       "      <td>8990</td>\n",
       "      <td>https://rukminim2.flixcart.com/image/312/312/k5vcya80pkrrdj/mobile-refurbished/w/r/g/redmi-7-64-u-na-mi-2-original-imafg28ehrgpqz3h.jpeg?q=70</td>\n",
       "      <td>Storage32 GBRAM3 GBExpandable Storage512GB  SystemAndroid Pie 9.0Processor TypeQualcomm Snapdragon 632Processor Speed1.8 12MP 2MP 12MP 2MP 8MP 3G Capacity4000 Display Size15.9 cm (6.26 inch)Resolution1520 x 720 pixelsResolution TypeHD+GPUAdreno 506 Up to 725 MHzDisplay TypeLCDOther Display FeaturesDot Drop Display, 19:9 Aspect Ratio, Corning Gorilla Glass 5, 86.83% Screen to Body Ratio, 1500:1 Contrast Ratio, NTSC 84% (Typical), Brightness: 450 nits (Typical), Support Color Temperature Adjustment - Standard Mode, Support Sunlight Mode - Reading Mode</td>\n",
       "    </tr>\n",
       "    <tr>\n",
       "      <th>336</th>\n",
       "      <td>OPPO A71k (New Edition) (Gold, 16 GB)</td>\n",
       "      <td>4.1</td>\n",
       "      <td>₹10,990</td>\n",
       "      <td>https://rukminim2.flixcart.com/image/312/312/jdg9ocw0/mobile/t/m/q/oppo-a71-cph1801-original-imaf2czahagkhnf2.jpeg?q=70</td>\n",
       "      <td>Storage16 GBRAM3 GBExpandable Storage256GB  SystemAndroid Nougat 7.1Processor TypeSnapdragon 450 (MSM450) Octa Core 1.8 GHzProcessor Speed1.8 13MP 5MP 3G Capacity3000 Display Size13.21 cm (5.2 inch)Resolution1280 x 720 PixelsResolution TypeHDDisplay Colors16.7M</td>\n",
       "    </tr>\n",
       "    <tr>\n",
       "      <th>267</th>\n",
       "      <td>realme C30s (Stripe Blue, 64 GB)</td>\n",
       "      <td>4.2</td>\n",
       "      <td>8699</td>\n",
       "      <td>https://rukminim2.flixcart.com/image/312/312/xif0q/mobile/b/o/n/-original-imagg3myvj6f3pez.jpeg?q=70</td>\n",
       "      <td>Storage64 GBRAM4 GBExpandable Storage1TB  SystemAndroid 12Processor TypeUnisoc SC9863A/ Unisoc SC9863A1Processor Speed1.6 8MP 8MP 5MP 5MP 4G Capacity5000 Display Size16.51 cm (6.5 inch)Resolution1600 x 720 PixelsResolution TypeHD+GPUImagination GE8322Display TypeHD+ LCD DisplayDisplay Colors16.7MOther Display FeaturesRefresh Rate: 60 Hz, Aspect Ratio: 20:9, Screen-to-Body Ratio: 88.7%, Screen Contrast: 1500:1, Maximum Brightness: 400 nits, Color Saturation: 70%, Sunlight Screen Support</td>\n",
       "    </tr>\n",
       "    <tr>\n",
       "      <th>988</th>\n",
       "      <td>SAMSUNG Metro 313</td>\n",
       "      <td>4.2</td>\n",
       "      <td>2499</td>\n",
       "      <td>https://rukminim2.flixcart.com/image/312/312/kqidx8w0/mobile/t/v/n/metro-313-sm-b313ezkdins-samsung-original-imag4g39bqjdapa2.jpeg?q=70</td>\n",
       "      <td>Storage2.27 MBRAM512  SystemAndroid Pie 9Processor TypeMediaTek MT6762Processor Speed2 3MP 4G Capacity1000 Display Size5.08 cm (2 inch)Resolution640 x 480Resolution TypeVGA</td>\n",
       "    </tr>\n",
       "    <tr>\n",
       "      <th>2355</th>\n",
       "      <td>SAMSUNG Galaxy A10s (Black, 32 GB)</td>\n",
       "      <td>4.3</td>\n",
       "      <td>11000</td>\n",
       "      <td>https://rukminim2.flixcart.com/image/312/312/k2jbyq80pkrrdj/mobile-refurbished/d/u/c/galaxy-a10s-32-gb-c-sm-a107fzkdins-samsung-2-original-imafjycfagsvuzrw.jpeg?q=70</td>\n",
       "      <td>Storage32 GBRAM3 GBExpandable Storage512GB  SystemAndroid Pie 9Processor TypeMediaTek MT6762Processor Speed2 13MP 2MP 13MP 8MP 5MP 4G Capacity4000 Display Size15.75 cm (6.2 inch)Resolution720 x 1560Resolution TypeHD+GPUImagination GE8320Display TypeTFT V Cut DisplayDisplay Colors16M</td>\n",
       "    </tr>\n",
       "    <tr>\n",
       "      <th>409</th>\n",
       "      <td>SAMSUNG Galaxy Z Flip4 5G (Bora Purple, 256 GB)</td>\n",
       "      <td>4.3</td>\n",
       "      <td>29463</td>\n",
       "      <td>https://rukminim2.flixcart.com/image/312/312/xif0q/mobile/2/v/7/-original-imagh7nnb7ssj3xq.jpeg?q=70</td>\n",
       "      <td>Storage256 GBRAM8  SystemAndroid 12Processor TypeQualcomm Snapdragon 8+ Gen 1Processor Speed3.18 12MP 12MP 12MP 12MP 10MP 10MP 4G Capacity3700 Display Size17.02 cm (6.7 inch)Resolution2640 x 1080 PixelsResolution TypeFull HD+GPUQualcomm Adreno 730Display TypeFull HD+ Dynamic AMOLED 2X DisplayHD Game SupportYesDisplay Colors16M</td>\n",
       "    </tr>\n",
       "    <tr>\n",
       "      <th>1933</th>\n",
       "      <td>SAMSUNG Galaxy Note 20 (Mystic Green, 256 GB)</td>\n",
       "      <td>3.9</td>\n",
       "      <td>20464</td>\n",
       "      <td>https://rukminim2.flixcart.com/image/312/312/kdhphu80/mobile/c/g/w/samsung-note-20-canvas-sm-n980fzggins-original-imafudkffthvs8zd.jpeg?q=70</td>\n",
       "      <td>Storage2 MBRAM10  SystemAndroid 10Processor TypeExynos Octa CoreProcessor Speed2.73 64MP 12MP 12MP 64MP 12MP 12MP 10MP 10MP 4G Capacity4300 Display Size17.02 cm (6.7 inch)Resolution2400 x 1080 PixelsResolution TypeFull HD+Display TypeFull HD+ Super AMOLED Plus Display</td>\n",
       "    </tr>\n",
       "    <tr>\n",
       "      <th>18</th>\n",
       "      <td>Xiaomi 11T Pro 5G Hyperphone (Celestial Magic, 256 GB)</td>\n",
       "      <td>4.0</td>\n",
       "      <td>31999</td>\n",
       "      <td>https://rukminim2.flixcart.com/image/312/312/kynb6vk0/mobile/s/5/g/11t-pro-5g-11t-mi-original-imagatzzzpffbhgb.jpeg?q=70</td>\n",
       "      <td>Storage256 GBRAM8  SystemAndroid Q 11Primary Clock Speed2.4 GHz 108MP 5G Capacity5000 Display Size16.94 cm (6.67 inch)Resolution1080 x 2460$$pixels</td>\n",
       "    </tr>\n",
       "    <tr>\n",
       "      <th>650</th>\n",
       "      <td>APPLE iPhone 5s (Space Grey, 16 GB)</td>\n",
       "      <td>4.4</td>\n",
       "      <td>25000</td>\n",
       "      <td>https://rukminim2.flixcart.com/image/312/312/mobile/z/h/f/apple-iphone-5s-original-imadpppc54zfpj9c.jpeg?q=70</td>\n",
       "      <td>Storage16 SystemiOS 7Processor TypeApple A7 64-bit 8MP 2MP 3G Capacity1560 Display Size10.16 cm (4 inch)Resolution1136 x 640 PixelsResolution TypeRetina DisplayGPUOpenGL ES 3.0Other Display FeaturesContrast Ratio - 800:1, Wide Screen, 500 cd / m2 Max Brightness, Finger Print Resistant, Multi-touch, 360-degree Readability, Retina Display, Oleophobic Coating on Front</td>\n",
       "    </tr>\n",
       "    <tr>\n",
       "      <th>534</th>\n",
       "      <td>REDMI Note 12 (Sunrise Gold, 128 GB)</td>\n",
       "      <td>4.1</td>\n",
       "      <td>15999</td>\n",
       "      <td>https://rukminim2.flixcart.com/image/312/312/xif0q/mobile/s/2/z/note-12-mzb0e6fin-redmi-original-imagz62gzggajgz4.jpeg?q=70</td>\n",
       "      <td>Storage128 GBRAM6 GBExpandable Storage1TB  SystemAndroid 13Processor TypeSnapdragon 685Processor Speed2.8 50MP 8MP 2MP 50MP 8MP 2MP 50MP 13MP 13MP 2G Capacity5000 Display Size16.94 cm (6.67 inch)Resolution2400 x 1080 PixelsResolution TypeFull HD+ Super AMOLED DisplayGPUAdreno 610Display TypeFull HD+ 120 Hz Super AMOLED DisplayOther Display Features1200nits Peak Brightness, 240Hz Touch Sampling Rate, 4500000:1, DCI-P3 Colour Gamut Support</td>\n",
       "    </tr>\n",
       "  </tbody>\n",
       "</table>\n",
       "</div>"
      ],
      "text/plain": [
       "                                                        name  ratings  \\\n",
       "2206                              Redmi 7 (Lunar Red, 32 GB)      4.4   \n",
       "336                    OPPO A71k (New Edition) (Gold, 16 GB)      4.1   \n",
       "267                         realme C30s (Stripe Blue, 64 GB)      4.2   \n",
       "988                                        SAMSUNG Metro 313      4.2   \n",
       "2355                      SAMSUNG Galaxy A10s (Black, 32 GB)      4.3   \n",
       "409          SAMSUNG Galaxy Z Flip4 5G (Bora Purple, 256 GB)      4.3   \n",
       "1933           SAMSUNG Galaxy Note 20 (Mystic Green, 256 GB)      3.9   \n",
       "18    Xiaomi 11T Pro 5G Hyperphone (Celestial Magic, 256 GB)      4.0   \n",
       "650                      APPLE iPhone 5s (Space Grey, 16 GB)      4.4   \n",
       "534                     REDMI Note 12 (Sunrise Gold, 128 GB)      4.1   \n",
       "\n",
       "        price  \\\n",
       "2206     8990   \n",
       "336   ₹10,990   \n",
       "267      8699   \n",
       "988      2499   \n",
       "2355    11000   \n",
       "409     29463   \n",
       "1933    20464   \n",
       "18      31999   \n",
       "650     25000   \n",
       "534     15999   \n",
       "\n",
       "                                                                                                                                                                     imgURL  \\\n",
       "2206                          https://rukminim2.flixcart.com/image/312/312/k5vcya80pkrrdj/mobile-refurbished/w/r/g/redmi-7-64-u-na-mi-2-original-imafg28ehrgpqz3h.jpeg?q=70   \n",
       "336                                                 https://rukminim2.flixcart.com/image/312/312/jdg9ocw0/mobile/t/m/q/oppo-a71-cph1801-original-imaf2czahagkhnf2.jpeg?q=70   \n",
       "267                                                                    https://rukminim2.flixcart.com/image/312/312/xif0q/mobile/b/o/n/-original-imagg3myvj6f3pez.jpeg?q=70   \n",
       "988                                 https://rukminim2.flixcart.com/image/312/312/kqidx8w0/mobile/t/v/n/metro-313-sm-b313ezkdins-samsung-original-imag4g39bqjdapa2.jpeg?q=70   \n",
       "2355  https://rukminim2.flixcart.com/image/312/312/k2jbyq80pkrrdj/mobile-refurbished/d/u/c/galaxy-a10s-32-gb-c-sm-a107fzkdins-samsung-2-original-imafjycfagsvuzrw.jpeg?q=70   \n",
       "409                                                                    https://rukminim2.flixcart.com/image/312/312/xif0q/mobile/2/v/7/-original-imagh7nnb7ssj3xq.jpeg?q=70   \n",
       "1933                           https://rukminim2.flixcart.com/image/312/312/kdhphu80/mobile/c/g/w/samsung-note-20-canvas-sm-n980fzggins-original-imafudkffthvs8zd.jpeg?q=70   \n",
       "18                                                 https://rukminim2.flixcart.com/image/312/312/kynb6vk0/mobile/s/5/g/11t-pro-5g-11t-mi-original-imagatzzzpffbhgb.jpeg?q=70   \n",
       "650                                                           https://rukminim2.flixcart.com/image/312/312/mobile/z/h/f/apple-iphone-5s-original-imadpppc54zfpj9c.jpeg?q=70   \n",
       "534                                             https://rukminim2.flixcart.com/image/312/312/xif0q/mobile/s/2/z/note-12-mzb0e6fin-redmi-original-imagz62gzggajgz4.jpeg?q=70   \n",
       "\n",
       "                                                                                                                                                                                                                                                                                                                                                                                                                                                                                                                                                                           corpus  \n",
       "2206  Storage32 GBRAM3 GBExpandable Storage512GB  SystemAndroid Pie 9.0Processor TypeQualcomm Snapdragon 632Processor Speed1.8 12MP 2MP 12MP 2MP 8MP 3G Capacity4000 Display Size15.9 cm (6.26 inch)Resolution1520 x 720 pixelsResolution TypeHD+GPUAdreno 506 Up to 725 MHzDisplay TypeLCDOther Display FeaturesDot Drop Display, 19:9 Aspect Ratio, Corning Gorilla Glass 5, 86.83% Screen to Body Ratio, 1500:1 Contrast Ratio, NTSC 84% (Typical), Brightness: 450 nits (Typical), Support Color Temperature Adjustment - Standard Mode, Support Sunlight Mode - Reading Mode  \n",
       "336                                                                                                                                                                                                                                                                                                         Storage16 GBRAM3 GBExpandable Storage256GB  SystemAndroid Nougat 7.1Processor TypeSnapdragon 450 (MSM450) Octa Core 1.8 GHzProcessor Speed1.8 13MP 5MP 3G Capacity3000 Display Size13.21 cm (5.2 inch)Resolution1280 x 720 PixelsResolution TypeHDDisplay Colors16.7M  \n",
       "267                                                                    Storage64 GBRAM4 GBExpandable Storage1TB  SystemAndroid 12Processor TypeUnisoc SC9863A/ Unisoc SC9863A1Processor Speed1.6 8MP 8MP 5MP 5MP 4G Capacity5000 Display Size16.51 cm (6.5 inch)Resolution1600 x 720 PixelsResolution TypeHD+GPUImagination GE8322Display TypeHD+ LCD DisplayDisplay Colors16.7MOther Display FeaturesRefresh Rate: 60 Hz, Aspect Ratio: 20:9, Screen-to-Body Ratio: 88.7%, Screen Contrast: 1500:1, Maximum Brightness: 400 nits, Color Saturation: 70%, Sunlight Screen Support  \n",
       "988                                                                                                                                                                                                                                                                                                                                                                                                  Storage2.27 MBRAM512  SystemAndroid Pie 9Processor TypeMediaTek MT6762Processor Speed2 3MP 4G Capacity1000 Display Size5.08 cm (2 inch)Resolution640 x 480Resolution TypeVGA  \n",
       "2355                                                                                                                                                                                                                                                                                  Storage32 GBRAM3 GBExpandable Storage512GB  SystemAndroid Pie 9Processor TypeMediaTek MT6762Processor Speed2 13MP 2MP 13MP 8MP 5MP 4G Capacity4000 Display Size15.75 cm (6.2 inch)Resolution720 x 1560Resolution TypeHD+GPUImagination GE8320Display TypeTFT V Cut DisplayDisplay Colors16M  \n",
       "409                                                                                                                                                                                                                                      Storage256 GBRAM8  SystemAndroid 12Processor TypeQualcomm Snapdragon 8+ Gen 1Processor Speed3.18 12MP 12MP 12MP 12MP 10MP 10MP 4G Capacity3700 Display Size17.02 cm (6.7 inch)Resolution2640 x 1080 PixelsResolution TypeFull HD+GPUQualcomm Adreno 730Display TypeFull HD+ Dynamic AMOLED 2X DisplayHD Game SupportYesDisplay Colors16M  \n",
       "1933                                                                                                                                                                                                                                                                                                 Storage2 MBRAM10  SystemAndroid 10Processor TypeExynos Octa CoreProcessor Speed2.73 64MP 12MP 12MP 64MP 12MP 12MP 10MP 10MP 4G Capacity4300 Display Size17.02 cm (6.7 inch)Resolution2400 x 1080 PixelsResolution TypeFull HD+Display TypeFull HD+ Super AMOLED Plus Display  \n",
       "18                                                                                                                                                                                                                                                                                                                                                                                                                            Storage256 GBRAM8  SystemAndroid Q 11Primary Clock Speed2.4 GHz 108MP 5G Capacity5000 Display Size16.94 cm (6.67 inch)Resolution1080 x 2460$$pixels  \n",
       "650                                                                                                                                                                                               Storage16 SystemiOS 7Processor TypeApple A7 64-bit 8MP 2MP 3G Capacity1560 Display Size10.16 cm (4 inch)Resolution1136 x 640 PixelsResolution TypeRetina DisplayGPUOpenGL ES 3.0Other Display FeaturesContrast Ratio - 800:1, Wide Screen, 500 cd / m2 Max Brightness, Finger Print Resistant, Multi-touch, 360-degree Readability, Retina Display, Oleophobic Coating on Front  \n",
       "534                                                                                                                     Storage128 GBRAM6 GBExpandable Storage1TB  SystemAndroid 13Processor TypeSnapdragon 685Processor Speed2.8 50MP 8MP 2MP 50MP 8MP 2MP 50MP 13MP 13MP 2G Capacity5000 Display Size16.94 cm (6.67 inch)Resolution2400 x 1080 PixelsResolution TypeFull HD+ Super AMOLED DisplayGPUAdreno 610Display TypeFull HD+ 120 Hz Super AMOLED DisplayOther Display Features1200nits Peak Brightness, 240Hz Touch Sampling Rate, 4500000:1, DCI-P3 Colour Gamut Support  "
      ]
     },
     "execution_count": 14,
     "metadata": {},
     "output_type": "execute_result"
    }
   ],
   "source": [
    "pd.set_option('display.max_colwidth', None)\n",
    "df.sample(10)"
   ]
  },
  {
   "cell_type": "code",
   "execution_count": 9,
   "id": "5e1095da",
   "metadata": {},
   "outputs": [
    {
     "data": {
      "text/html": [
       "<pre style=\"white-space:pre;overflow-x:auto;line-height:normal;font-family:Menlo,'DejaVu Sans Mono',consolas,'Courier New',monospace\"><span style=\"color: #008080; text-decoration-color: #008080; font-weight: bold\">1123</span> : <span style=\"color: #0000ff; text-decoration-color: #0000ff; text-decoration: underline\">https://rukminim2.flixcart.com/image/312/312/xif0q/mobile/l/2/x/-original-imaghkvuqvdctjmx.jpeg?q=70</span>\n",
       "</pre>\n"
      ],
      "text/plain": [
       "\u001b[1;36m1123\u001b[0m : \u001b[4;94mhttps://rukminim2.flixcart.com/image/312/312/xif0q/mobile/l/2/x/-original-imaghkvuqvdctjmx.jpeg?\u001b[0m\u001b[4;94mq\u001b[0m\u001b[4;94m=\u001b[0m\u001b[4;94m70\u001b[0m\n"
      ]
     },
     "metadata": {},
     "output_type": "display_data"
    },
    {
     "data": {
      "text/html": [
       "<pre style=\"white-space:pre;overflow-x:auto;line-height:normal;font-family:Menlo,'DejaVu Sans Mono',consolas,'Courier New',monospace\"><span style=\"color: #008080; text-decoration-color: #008080; font-weight: bold\">1055</span> : <span style=\"color: #0000ff; text-decoration-color: #0000ff; text-decoration: underline\">https://rukminim2.flixcart.com/image/312/312/xif0q/mobile/y/w/u/-original-imaggvy5xmt6dbuf.jpeg?q=70</span>\n",
       "</pre>\n"
      ],
      "text/plain": [
       "\u001b[1;36m1055\u001b[0m : \u001b[4;94mhttps://rukminim2.flixcart.com/image/312/312/xif0q/mobile/y/w/u/-original-imaggvy5xmt6dbuf.jpeg?\u001b[0m\u001b[4;94mq\u001b[0m\u001b[4;94m=\u001b[0m\u001b[4;94m70\u001b[0m\n"
      ]
     },
     "metadata": {},
     "output_type": "display_data"
    },
    {
     "data": {
      "text/html": [
       "<pre style=\"white-space:pre;overflow-x:auto;line-height:normal;font-family:Menlo,'DejaVu Sans Mono',consolas,'Courier New',monospace\"><span style=\"color: #008080; text-decoration-color: #008080; font-weight: bold\">2453</span> : <span style=\"color: #0000ff; text-decoration-color: #0000ff; text-decoration: underline\">https://rukminim2.flixcart.com/image/312/312/xif0q/mobile/w/s/x/-original-imagnfqyn37fpmnz.jpeg?q=70</span>\n",
       "</pre>\n"
      ],
      "text/plain": [
       "\u001b[1;36m2453\u001b[0m : \u001b[4;94mhttps://rukminim2.flixcart.com/image/312/312/xif0q/mobile/w/s/x/-original-imagnfqyn37fpmnz.jpeg?\u001b[0m\u001b[4;94mq\u001b[0m\u001b[4;94m=\u001b[0m\u001b[4;94m70\u001b[0m\n"
      ]
     },
     "metadata": {},
     "output_type": "display_data"
    },
    {
     "data": {
      "text/html": [
       "<pre style=\"white-space:pre;overflow-x:auto;line-height:normal;font-family:Menlo,'DejaVu Sans Mono',consolas,'Courier New',monospace\"><span style=\"color: #008080; text-decoration-color: #008080; font-weight: bold\">816</span> : \n",
       "<span style=\"color: #0000ff; text-decoration-color: #0000ff; text-decoration: underline\">https://rukminim2.flixcart.com/image/312/312/kcnp8y80/mobile/v/n/j/oppo-reno-opo-cph1917-jetblk-withoff-original-im</span>\n",
       "<span style=\"color: #0000ff; text-decoration-color: #0000ff; text-decoration: underline\">aftqczapvrzsu9.jpeg?q=70</span>\n",
       "</pre>\n"
      ],
      "text/plain": [
       "\u001b[1;36m816\u001b[0m : \n",
       "\u001b[4;94mhttps://rukminim2.flixcart.com/image/312/312/kcnp8y80/mobile/v/n/j/oppo-reno-opo-cph1917-jetblk-withoff-original-im\u001b[0m\n",
       "\u001b[4;94maftqczapvrzsu9.jpeg?\u001b[0m\u001b[4;94mq\u001b[0m\u001b[4;94m=\u001b[0m\u001b[4;94m70\u001b[0m\n"
      ]
     },
     "metadata": {},
     "output_type": "display_data"
    },
    {
     "data": {
      "text/html": [
       "<pre style=\"white-space:pre;overflow-x:auto;line-height:normal;font-family:Menlo,'DejaVu Sans Mono',consolas,'Courier New',monospace\"><span style=\"color: #008080; text-decoration-color: #008080; font-weight: bold\">155</span> : \n",
       "<span style=\"color: #0000ff; text-decoration-color: #0000ff; text-decoration: underline\">https://rukminim2.flixcart.com/image/312/312/kv6zvrk0/mobile/c/l/e/a55-cph2325-oppo-original-imag85qsz2hhumpy.jpeg?</span>\n",
       "<span style=\"color: #0000ff; text-decoration-color: #0000ff; text-decoration: underline\">q=70</span>\n",
       "</pre>\n"
      ],
      "text/plain": [
       "\u001b[1;36m155\u001b[0m : \n",
       "\u001b[4;94mhttps://rukminim2.flixcart.com/image/312/312/kv6zvrk0/mobile/c/l/e/a55-cph2325-oppo-original-imag85qsz2hhumpy.jpeg?\u001b[0m\n",
       "\u001b[4;94mq\u001b[0m\u001b[4;94m=\u001b[0m\u001b[4;94m70\u001b[0m\n"
      ]
     },
     "metadata": {},
     "output_type": "display_data"
    },
    {
     "data": {
      "text/html": [
       "<pre style=\"white-space:pre;overflow-x:auto;line-height:normal;font-family:Menlo,'DejaVu Sans Mono',consolas,'Courier New',monospace\"><span style=\"color: #008080; text-decoration-color: #008080; font-weight: bold\">2403</span> : <span style=\"color: #0000ff; text-decoration-color: #0000ff; text-decoration: underline\">https://rukminim2.flixcart.com/image/312/312/xif0q/mobile/g/o/0/-original-imagfzjymhrwrebm.jpeg?q=70</span>\n",
       "</pre>\n"
      ],
      "text/plain": [
       "\u001b[1;36m2403\u001b[0m : \u001b[4;94mhttps://rukminim2.flixcart.com/image/312/312/xif0q/mobile/g/o/0/-original-imagfzjymhrwrebm.jpeg?\u001b[0m\u001b[4;94mq\u001b[0m\u001b[4;94m=\u001b[0m\u001b[4;94m70\u001b[0m\n"
      ]
     },
     "metadata": {},
     "output_type": "display_data"
    }
   ],
   "source": [
    "random_values('imgURL')"
   ]
  },
  {
   "cell_type": "code",
   "execution_count": null,
   "id": "517317a2",
   "metadata": {},
   "outputs": [],
   "source": []
  }
 ],
 "metadata": {
  "kernelspec": {
   "display_name": "venv",
   "language": "python",
   "name": "python3"
  },
  "language_info": {
   "codemirror_mode": {
    "name": "ipython",
    "version": 3
   },
   "file_extension": ".py",
   "mimetype": "text/x-python",
   "name": "python",
   "nbconvert_exporter": "python",
   "pygments_lexer": "ipython3",
   "version": "3.12.10"
  }
 },
 "nbformat": 4,
 "nbformat_minor": 5
}
